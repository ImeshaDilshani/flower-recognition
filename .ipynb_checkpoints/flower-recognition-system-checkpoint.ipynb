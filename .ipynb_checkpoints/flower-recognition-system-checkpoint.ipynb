{
 "cells": [
  {
   "cell_type": "code",
   "execution_count": 4,
   "id": "acf94985",
   "metadata": {},
   "outputs": [],
   "source": [
    "#importing libraries"
   ]
  },
  {
   "cell_type": "code",
   "execution_count": 5,
   "id": "b1e4fe3d",
   "metadata": {},
   "outputs": [],
   "source": [
    "import numpy as np\n",
    "import tensorflow as tf\n",
    "from keras.preprocessing.image import ImageDataGenerator"
   ]
  },
  {
   "cell_type": "code",
   "execution_count": 6,
   "id": "24476cea",
   "metadata": {},
   "outputs": [],
   "source": [
    "#Data Preprocessing"
   ]
  },
  {
   "cell_type": "code",
   "execution_count": 7,
   "id": "7746ac59",
   "metadata": {},
   "outputs": [],
   "source": [
    "#Tranning Image Processing"
   ]
  },
  {
   "cell_type": "code",
   "execution_count": 8,
   "id": "7bd27e4b",
   "metadata": {},
   "outputs": [
    {
     "name": "stdout",
     "output_type": "stream",
     "text": [
      "Found 3453 images belonging to 5 classes.\n"
     ]
    }
   ],
   "source": [
    "train_datagen = ImageDataGenerator(\n",
    "        rescale=1./255,\n",
    "        shear_range=0.2,\n",
    "        zoom_range=0.2,\n",
    "        horizontal_flip=True)\n",
    "training_set = train_datagen.flow_from_directory(\n",
    "        'train',\n",
    "        target_size=(64, 64),\n",
    "        batch_size=32,\n",
    "        class_mode='categorical')"
   ]
  },
  {
   "cell_type": "code",
   "execution_count": 9,
   "id": "f0dad7a0",
   "metadata": {},
   "outputs": [],
   "source": [
    "#Test Image Processing"
   ]
  },
  {
   "cell_type": "code",
   "execution_count": 10,
   "id": "827d1a20",
   "metadata": {},
   "outputs": [
    {
     "name": "stdout",
     "output_type": "stream",
     "text": [
      "Found 864 images belonging to 5 classes.\n"
     ]
    }
   ],
   "source": [
    "test_datagen = ImageDataGenerator(rescale=1./255)\n",
    "test_set = test_datagen.flow_from_directory('test',target_size=(64, 64),batch_size=32,class_mode='categorical')"
   ]
  },
  {
   "cell_type": "code",
   "execution_count": 11,
   "id": "65569c22",
   "metadata": {},
   "outputs": [],
   "source": [
    "#Building Model"
   ]
  },
  {
   "cell_type": "code",
   "execution_count": 13,
   "id": "20aa1379",
   "metadata": {},
   "outputs": [],
   "source": [
    "cnn = tf.keras.models.Sequential()"
   ]
  },
  {
   "cell_type": "code",
   "execution_count": 14,
   "id": "4ec47e49",
   "metadata": {},
   "outputs": [],
   "source": [
    "#Building Convelutional layer"
   ]
  },
  {
   "cell_type": "code",
   "execution_count": 15,
   "id": "04cd8838",
   "metadata": {},
   "outputs": [],
   "source": [
    "cnn.add(tf.keras.layers.Conv2D(filters=64 , kernel_size=3 , activation='relu' , input_shape=[64,64,3]))"
   ]
  },
  {
   "cell_type": "code",
   "execution_count": 16,
   "id": "e98b77ef",
   "metadata": {},
   "outputs": [],
   "source": [
    "#Pooling Layer"
   ]
  },
  {
   "cell_type": "code",
   "execution_count": 18,
   "id": "98472d7f",
   "metadata": {},
   "outputs": [],
   "source": [
    "cnn.add(tf.keras.layers.MaxPool2D(pool_size=2,strides=2))"
   ]
  },
  {
   "cell_type": "code",
   "execution_count": 19,
   "id": "8b1d045d",
   "metadata": {},
   "outputs": [],
   "source": [
    "#adding layers two-time to get more accuracy"
   ]
  },
  {
   "cell_type": "code",
   "execution_count": 20,
   "id": "d8bc6c1e",
   "metadata": {},
   "outputs": [],
   "source": [
    "cnn.add(tf.keras.layers.Conv2D(filters=64 , kernel_size=3 , activation='relu'))"
   ]
  },
  {
   "cell_type": "code",
   "execution_count": 21,
   "id": "e7a4f9fd",
   "metadata": {},
   "outputs": [],
   "source": [
    "cnn.add(tf.keras.layers.MaxPool2D(pool_size=2,strides=2))"
   ]
  },
  {
   "cell_type": "code",
   "execution_count": 22,
   "id": "6cf97621",
   "metadata": {},
   "outputs": [],
   "source": [
    "cnn.add(tf.keras.layers.Dropout(0.5))"
   ]
  },
  {
   "cell_type": "code",
   "execution_count": 23,
   "id": "70e6184b",
   "metadata": {},
   "outputs": [],
   "source": [
    "cnn.add(tf.keras.layers.Flatten())"
   ]
  },
  {
   "cell_type": "code",
   "execution_count": 24,
   "id": "60cc829b",
   "metadata": {},
   "outputs": [],
   "source": [
    "#addinh hidden layer"
   ]
  },
  {
   "cell_type": "code",
   "execution_count": 25,
   "id": "c9dcd3cb",
   "metadata": {},
   "outputs": [],
   "source": [
    "cnn.add(tf.keras.layers.Dense(units=128,activation='relu'))"
   ]
  },
  {
   "cell_type": "code",
   "execution_count": 26,
   "id": "18c28203",
   "metadata": {},
   "outputs": [],
   "source": [
    "#adding output layer"
   ]
  },
  {
   "cell_type": "code",
   "execution_count": 27,
   "id": "d4b79527",
   "metadata": {},
   "outputs": [],
   "source": [
    "cnn.add(tf.keras.layers.Dense(units=5,activation='softmax'))"
   ]
  },
  {
   "cell_type": "code",
   "execution_count": 29,
   "id": "21f32c84",
   "metadata": {},
   "outputs": [],
   "source": [
    "cnn.compile(optimizer = 'rmsprop' , loss = 'categorical_crossentropy' , metrics = ['accuracy'])"
   ]
  },
  {
   "cell_type": "code",
   "execution_count": 30,
   "id": "b1152c28",
   "metadata": {},
   "outputs": [
    {
     "name": "stdout",
     "output_type": "stream",
     "text": [
      "Epoch 1/30\n",
      "WARNING:tensorflow:From C:\\Users\\Asus\\anaconda3\\Lib\\site-packages\\keras\\src\\utils\\tf_utils.py:492: The name tf.ragged.RaggedTensorValue is deprecated. Please use tf.compat.v1.ragged.RaggedTensorValue instead.\n",
      "\n",
      "WARNING:tensorflow:From C:\\Users\\Asus\\anaconda3\\Lib\\site-packages\\keras\\src\\engine\\base_layer_utils.py:384: The name tf.executing_eagerly_outside_functions is deprecated. Please use tf.compat.v1.executing_eagerly_outside_functions instead.\n",
      "\n",
      "108/108 [==============================] - 67s 594ms/step - loss: 1.3351 - accuracy: 0.4150 - val_loss: 1.1267 - val_accuracy: 0.5417\n",
      "Epoch 2/30\n",
      "108/108 [==============================] - 42s 391ms/step - loss: 1.1143 - accuracy: 0.5497 - val_loss: 1.0225 - val_accuracy: 0.6157\n",
      "Epoch 3/30\n",
      "108/108 [==============================] - 39s 359ms/step - loss: 1.0248 - accuracy: 0.5888 - val_loss: 1.2539 - val_accuracy: 0.5162\n",
      "Epoch 4/30\n",
      "108/108 [==============================] - 39s 365ms/step - loss: 0.9632 - accuracy: 0.6235 - val_loss: 0.9059 - val_accuracy: 0.6285\n",
      "Epoch 5/30\n",
      "108/108 [==============================] - 39s 363ms/step - loss: 0.9111 - accuracy: 0.6467 - val_loss: 1.0142 - val_accuracy: 0.6019\n",
      "Epoch 6/30\n",
      "108/108 [==============================] - 39s 361ms/step - loss: 0.8821 - accuracy: 0.6545 - val_loss: 1.0983 - val_accuracy: 0.5961\n",
      "Epoch 7/30\n",
      "108/108 [==============================] - 39s 361ms/step - loss: 0.8559 - accuracy: 0.6626 - val_loss: 0.8028 - val_accuracy: 0.7014\n",
      "Epoch 8/30\n",
      "108/108 [==============================] - 39s 357ms/step - loss: 0.8167 - accuracy: 0.6855 - val_loss: 0.8297 - val_accuracy: 0.6910\n",
      "Epoch 9/30\n",
      "108/108 [==============================] - 39s 364ms/step - loss: 0.7937 - accuracy: 0.6898 - val_loss: 0.7346 - val_accuracy: 0.7234\n",
      "Epoch 10/30\n",
      "108/108 [==============================] - 39s 362ms/step - loss: 0.7718 - accuracy: 0.6916 - val_loss: 0.9088 - val_accuracy: 0.6817\n",
      "Epoch 11/30\n",
      "108/108 [==============================] - 39s 364ms/step - loss: 0.7498 - accuracy: 0.7069 - val_loss: 0.8045 - val_accuracy: 0.7176\n",
      "Epoch 12/30\n",
      "108/108 [==============================] - 39s 359ms/step - loss: 0.7267 - accuracy: 0.7191 - val_loss: 0.8248 - val_accuracy: 0.7002\n",
      "Epoch 13/30\n",
      "108/108 [==============================] - 42s 391ms/step - loss: 0.7166 - accuracy: 0.7214 - val_loss: 0.7985 - val_accuracy: 0.7222\n",
      "Epoch 14/30\n",
      "108/108 [==============================] - 41s 379ms/step - loss: 0.6974 - accuracy: 0.7359 - val_loss: 0.7712 - val_accuracy: 0.7280\n",
      "Epoch 15/30\n",
      "108/108 [==============================] - 39s 362ms/step - loss: 0.6858 - accuracy: 0.7353 - val_loss: 0.8694 - val_accuracy: 0.6944\n",
      "Epoch 16/30\n",
      "108/108 [==============================] - 41s 380ms/step - loss: 0.6571 - accuracy: 0.7501 - val_loss: 0.8122 - val_accuracy: 0.6898\n",
      "Epoch 17/30\n",
      "108/108 [==============================] - 39s 363ms/step - loss: 0.6545 - accuracy: 0.7495 - val_loss: 0.9838 - val_accuracy: 0.6713\n",
      "Epoch 18/30\n",
      "108/108 [==============================] - 39s 357ms/step - loss: 0.6348 - accuracy: 0.7544 - val_loss: 1.0775 - val_accuracy: 0.6192\n",
      "Epoch 19/30\n",
      "108/108 [==============================] - 19s 172ms/step - loss: 0.6265 - accuracy: 0.7663 - val_loss: 0.7668 - val_accuracy: 0.7234\n",
      "Epoch 20/30\n",
      "108/108 [==============================] - 17s 156ms/step - loss: 0.6190 - accuracy: 0.7628 - val_loss: 0.8024 - val_accuracy: 0.7176\n",
      "Epoch 21/30\n",
      "108/108 [==============================] - 17s 160ms/step - loss: 0.6026 - accuracy: 0.7706 - val_loss: 0.8190 - val_accuracy: 0.7188\n",
      "Epoch 22/30\n",
      "108/108 [==============================] - 24s 221ms/step - loss: 0.5945 - accuracy: 0.7790 - val_loss: 0.7453 - val_accuracy: 0.7326\n",
      "Epoch 23/30\n",
      "108/108 [==============================] - 19s 180ms/step - loss: 0.5832 - accuracy: 0.7802 - val_loss: 0.7865 - val_accuracy: 0.7211\n",
      "Epoch 24/30\n",
      "108/108 [==============================] - 22s 204ms/step - loss: 0.5652 - accuracy: 0.7880 - val_loss: 0.8228 - val_accuracy: 0.7222\n",
      "Epoch 25/30\n",
      "108/108 [==============================] - 18s 166ms/step - loss: 0.5721 - accuracy: 0.7871 - val_loss: 0.8195 - val_accuracy: 0.7222\n",
      "Epoch 26/30\n",
      "108/108 [==============================] - 20s 183ms/step - loss: 0.5590 - accuracy: 0.7909 - val_loss: 0.7618 - val_accuracy: 0.7569\n",
      "Epoch 27/30\n",
      "108/108 [==============================] - 21s 191ms/step - loss: 0.5541 - accuracy: 0.7935 - val_loss: 0.7708 - val_accuracy: 0.7303\n",
      "Epoch 28/30\n",
      "108/108 [==============================] - 18s 168ms/step - loss: 0.5534 - accuracy: 0.7808 - val_loss: 0.8027 - val_accuracy: 0.7269\n",
      "Epoch 29/30\n",
      "108/108 [==============================] - 19s 172ms/step - loss: 0.5388 - accuracy: 0.7996 - val_loss: 0.8631 - val_accuracy: 0.7072\n",
      "Epoch 30/30\n",
      "108/108 [==============================] - 19s 180ms/step - loss: 0.5293 - accuracy: 0.8002 - val_loss: 0.7985 - val_accuracy: 0.7118\n"
     ]
    },
    {
     "data": {
      "text/plain": [
       "<keras.src.callbacks.History at 0x2396816e4d0>"
      ]
     },
     "execution_count": 30,
     "metadata": {},
     "output_type": "execute_result"
    }
   ],
   "source": [
    "cnn.fit(x = training_set , validation_data = test_set , epochs = 30)"
   ]
  },
  {
   "cell_type": "code",
   "execution_count": 29,
   "id": "3a016d0a",
   "metadata": {},
   "outputs": [],
   "source": [
    "#preprocess new image"
   ]
  },
  {
   "cell_type": "code",
   "execution_count": 80,
   "id": "a03e621f",
   "metadata": {},
   "outputs": [
    {
     "name": "stdout",
     "output_type": "stream",
     "text": [
      "1/1 [==============================] - 0s 22ms/step\n"
     ]
    }
   ],
   "source": [
    "from keras.preprocessing import image\n",
    "test_image = image.load_img('prediction/tuilip.jfif',target_size=(64,64))\n",
    "test_image = image.img_to_array(test_image)\n",
    "test_image = np.expand_dims(test_image,axis=0)\n",
    "result = cnn.predict(test_image)"
   ]
  },
  {
   "cell_type": "code",
   "execution_count": 81,
   "id": "f739eba9",
   "metadata": {},
   "outputs": [
    {
     "data": {
      "text/plain": [
       "{'daisy': 0, 'dandelion': 1, 'rose': 2, 'sunflower': 3, 'tulip': 4}"
      ]
     },
     "execution_count": 81,
     "metadata": {},
     "output_type": "execute_result"
    }
   ],
   "source": [
    "training_set.class_indices"
   ]
  },
  {
   "cell_type": "code",
   "execution_count": 82,
   "id": "670f3da5",
   "metadata": {},
   "outputs": [
    {
     "name": "stdout",
     "output_type": "stream",
     "text": [
      "Tulip\n"
     ]
    }
   ],
   "source": [
    "if result[0][0]==1:\n",
    "    print('Daisy')\n",
    "elif result[0][1]==1:\n",
    "    print('Dandelion')\n",
    "elif result[0][2]==1:\n",
    "    print('Rose')\n",
    "elif result[0][3]==1:\n",
    "    print('SunFlower')\n",
    "elif result[0][4]==1:\n",
    "    print(\"Tulip\")"
   ]
  },
  {
   "cell_type": "code",
   "execution_count": 77,
   "id": "46c8bba4",
   "metadata": {},
   "outputs": [
    {
     "name": "stdout",
     "output_type": "stream",
     "text": [
      "[[0. 0. 1. 0. 0.]]\n"
     ]
    }
   ],
   "source": [
    "print(result)"
   ]
  }
 ],
 "metadata": {
  "kernelspec": {
   "display_name": "Python 3 (ipykernel)",
   "language": "python",
   "name": "python3"
  },
  "language_info": {
   "codemirror_mode": {
    "name": "ipython",
    "version": 3
   },
   "file_extension": ".py",
   "mimetype": "text/x-python",
   "name": "python",
   "nbconvert_exporter": "python",
   "pygments_lexer": "ipython3",
   "version": "3.11.5"
  }
 },
 "nbformat": 4,
 "nbformat_minor": 5
}
